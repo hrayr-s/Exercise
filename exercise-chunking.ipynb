{
 "cells": [
  {
   "metadata": {},
   "cell_type": "markdown",
   "source": [
    "# Emerson Lab - Interview exercise\n",
    "\n",
    "Below is simple way of processing a mechanism parts usage statistics.\n",
    "1. Review the attached CSV files\n",
    "    - SampleCSV.csv which is input data\n",
    "    - ProductDescSample.csv which is augmentation data\n",
    "2. Read files and create a complete data set\n",
    "    - Any language you choose\n",
    "    - Consideration that the Sample.csv may become much larger\n",
    "3. Pick the most efficient format of file output and generate\n",
    "4. Provide a PowerPoint that describes your solution and present\n",
    "\n",
    "\n",
    "File Sample.csv\n",
    "\n",
    "`SN` - The Part Serial number (Identifier)\n",
    "\n",
    "`Run` time - test/measurement run time\n",
    "\n",
    "`Site` - unused\n",
    "\n",
    "`Operation` - unused\n",
    "\n",
    "`Equipment` - unused\n",
    "\n",
    "`Status.1` - Overall the part measurement status: OK if all tests passed, NOK any test failed\n",
    "\n",
    "`Name` - test/measurement name\n",
    "\n",
    "`Input` - input value for the test\n",
    "\n",
    "`Output` - output value for the current measurement\n",
    "\n",
    "`High_Limit` - Allowed highest value for the output\n",
    "\n",
    "`Low_Limit` - Allowed lowest value for the output\n",
    "\n",
    "`Status.2` - current test/measurement status\n",
    "\n",
    "From the given sample I understand the following:\n",
    "\n",
    "- For each part there is a group of tests to be done.\n",
    "    - The test is described under the column `Name`\n",
    "    - Each individual test may have outcome of Pass or Fail. I will take in consideration that there might be other values. So, only `Pass` is determined as a success for particular test\n",
    "- For each test group if a particular test has failed the part is marked as `NOK` - Not okay\n",
    "- The Part Serial number can differ. But multiple serial numbers might refer to the same type of part. In other words, SN has multiple Join on the Part_Desc.\n",
    "    - the SN is unique and the group of tests is done once for each serial number\n",
    "    - Multiple SN can have same Part_Desc\n",
    "        - Individual parts have their own SN\n"
   ],
   "id": "8a77807f92f26ee"
  },
  {
   "metadata": {
    "ExecuteTime": {
     "end_time": "2025-04-16T12:47:52.840929Z",
     "start_time": "2025-04-16T12:47:52.125724Z"
    }
   },
   "cell_type": "code",
   "source": [
    "from datetime import datetime\n",
    "from typing import List, Tuple\n",
    "from io import BytesIO\n",
    "\n",
    "import pandas as pd\n",
    "import matplotlib.pyplot as plt\n",
    "\n",
    "from lib import email_utils"
   ],
   "id": "fbc121e30a2defb3",
   "outputs": [],
   "execution_count": 1
  },
  {
   "metadata": {
    "ExecuteTime": {
     "end_time": "2025-04-16T12:47:52.860360Z",
     "start_time": "2025-04-16T12:47:52.857573Z"
    }
   },
   "cell_type": "code",
   "source": [
    "main_dataset_file_path = 'data/dummySamples2.csv'  # Main dataset to be parsed\n",
    "serial_num_desc_file_path = 'data/dummyDescSample2.csv'  # Part numbers descriptions\n",
    "report_to_email_addresses = ['hrayr.stepanyan.a@gmail.com']"
   ],
   "id": "b6b8bbe890b1089e",
   "outputs": [],
   "execution_count": 2
  },
  {
   "metadata": {
    "ExecuteTime": {
     "end_time": "2025-04-16T12:47:52.943046Z",
     "start_time": "2025-04-16T12:47:52.939689Z"
    }
   },
   "cell_type": "code",
   "source": [
    "columns = [\n",
    "    'SN',\n",
    "    'Run_Time',\n",
    "    'Site',\n",
    "    'Operation',\n",
    "    'Equipment',\n",
    "    'PartStatus',\n",
    "    'Name',\n",
    "    'Input',\n",
    "    'Output',\n",
    "    'High_Limit',\n",
    "    'Low_Limit',\n",
    "    'TestStatus',\n",
    "]\n",
    "dtypes = {\n",
    "    'SN': str,\n",
    "    'Run_Time': str,\n",
    "    'Site': str,\n",
    "    'Operation': str,\n",
    "    'Equipment': str,\n",
    "    'PartStatus': str,\n",
    "    'Name': str,\n",
    "    'Input': float,\n",
    "    'Output': float,\n",
    "    'High_Limit': float,\n",
    "    'Low_Limit': float,\n",
    "    'TestStatus': str,\n",
    "}\n",
    "parse_date = ['Run_Time']"
   ],
   "id": "2a7c600a8b26fe9d",
   "outputs": [],
   "execution_count": 3
  },
  {
   "metadata": {},
   "cell_type": "markdown",
   "source": [
    "# Parse in chunks and return as series\n",
    "\n",
    "Let's calculate stats for the following:\n",
    "\n",
    "- Total number of tests\n",
    "- Number of Parts tested\n",
    "- Number of failed individual tests for Part\n",
    "- Failure rate"
   ],
   "id": "b07b9befaaaaedf7"
  },
  {
   "metadata": {
    "ExecuteTime": {
     "end_time": "2025-04-16T12:47:52.956277Z",
     "start_time": "2025-04-16T12:47:52.952593Z"
    }
   },
   "cell_type": "code",
   "source": [
    "def parse_chunk(chunk: pd.DataFrame) -> (pd.DataFrame, pd.DataFrame, pd.DataFrame):\n",
    "    aggr_df = chunk.groupby(['Name', 'Part_Desc']).agg(\n",
    "        TotalTests=('TestStatus', 'count'),\n",
    "        FailedTests=('TestStatus', lambda x: (x != 'PASS').sum()),\n",
    "        HighestOutput=('Output', 'max'),\n",
    "        LowestOutput=('Output', 'min'),\n",
    "    ).reset_index()\n",
    "    parts_df = chunk['SN'].drop_duplicates()\n",
    "    successful_sn_df = chunk.loc[chunk['PartStatus'] == 'OK']['SN'].drop_duplicates()\n",
    "\n",
    "    return aggr_df, parts_df, successful_sn_df"
   ],
   "id": "5cdd886e676785ed",
   "outputs": [],
   "execution_count": 4
  },
  {
   "metadata": {
    "ExecuteTime": {
     "end_time": "2025-04-16T12:47:53.270709Z",
     "start_time": "2025-04-16T12:47:52.970951Z"
    }
   },
   "cell_type": "code",
   "source": [
    "df_reader = pd.read_csv(main_dataset_file_path, dtype=dtypes, parse_dates=parse_date, date_format='%m/%d/%y %H:%M:%s',\n",
    "                        chunksize=10000)\n",
    "aug = pd.read_csv(serial_num_desc_file_path)\n",
    "\n",
    "global_metrics = pd.DataFrame(columns=['Name', 'Part_Desc', 'TotalTests', 'FailedTests', 'FailureRate'])\n",
    "global_parts_df = pd.DataFrame(columns=['SN'])\n",
    "global_successful_sn_df = pd.DataFrame(columns=['SN'])\n",
    "\n",
    "for _chunk in df_reader:\n",
    "    _chunk.columns = columns\n",
    "    aug_df = _chunk.merge(aug, how='left', on='SN')\n",
    "    _aggr_df, _parts_df, _successful_sn_df = parse_chunk(aug_df)\n",
    "    global_metrics = pd.concat([global_metrics, _aggr_df]).groupby(['Name', 'Part_Desc'], as_index=False).agg(\n",
    "        TotalTests=('TotalTests', 'sum'),\n",
    "        FailedTests=('FailedTests', 'sum'),\n",
    "        HighestOutput=('HighestOutput', 'max'),\n",
    "        LowestOutput=('LowestOutput', 'min'),\n",
    "    )\n",
    "\n",
    "    global_parts_df = pd.concat([global_parts_df, _parts_df])\n",
    "    global_successful_sn_df = pd.concat([global_successful_sn_df, _successful_sn_df])\n",
    "\n",
    "global_metrics['FailureRate'] = global_metrics['FailedTests'] / global_metrics['TotalTests'] * 100\n",
    "global_parts_df = global_parts_df.merge(aug, on='SN', how='left').groupby(['Part_Desc'], as_index=False).agg(\n",
    "    parts_used=('SN', 'count'),\n",
    ")\n",
    "global_successful_sn_df = global_successful_sn_df.merge(\n",
    "    aug, on='SN', how='left'\n",
    ")\n",
    "global_successful_sn_df_stats = global_successful_sn_df.groupby(['Part_Desc'], as_index=False).agg(parts_succeed=('SN', 'count'))"
   ],
   "id": "f0c695438df0ac83",
   "outputs": [],
   "execution_count": 5
  },
  {
   "metadata": {},
   "cell_type": "markdown",
   "source": "# Global metrics grouped and aggregated for particular part tests",
   "id": "49ea9f170eca1619"
  },
  {
   "metadata": {
    "ExecuteTime": {
     "end_time": "2025-04-16T12:47:53.524039Z",
     "start_time": "2025-04-16T12:47:53.278739Z"
    }
   },
   "cell_type": "code",
   "source": [
    "global_metrics_fig, global_metrics_ax = plt.subplots()\n",
    "print(global_metrics.columns.tolist())\n",
    "global_metrics.set_index(['Part_Desc', 'Name'])[['TotalTests', 'FailedTests']].plot(kind='bar', ax=global_metrics_ax)\n",
    "global_metrics"
   ],
   "id": "24c443872d045384",
   "outputs": [
    {
     "name": "stdout",
     "output_type": "stream",
     "text": [
      "['Name', 'Part_Desc', 'TotalTests', 'FailedTests', 'HighestOutput', 'LowestOutput', 'FailureRate']\n"
     ]
    },
    {
     "data": {
      "text/plain": [
       "                  Name   Part_Desc TotalTests FailedTests  HighestOutput  \\\n",
       "0  measure temperature    Gear_Box       7856        5939          45.00   \n",
       "1  measure temperature  Hood_Cover       7752        5817          44.99   \n",
       "2  measure temperature       Panel       7652        5812          45.00   \n",
       "3  measure temperature    V8_Motor       7828        5822          45.00   \n",
       "4      measure voltage    Gear_Box       7819        3911           1.00   \n",
       "5      measure voltage  Hood_Cover       7678        3949           1.00   \n",
       "6      measure voltage       Panel       7678        3904           1.00   \n",
       "7      measure voltage    V8_Motor       7737        3891           1.00   \n",
       "\n",
       "   LowestOutput FailureRate  \n",
       "0         25.00   75.598269  \n",
       "1         25.01     75.0387  \n",
       "2         25.00   75.953999  \n",
       "3         25.00   74.374042  \n",
       "4         -1.00   50.019184  \n",
       "5         -1.00   51.432665  \n",
       "6         -1.00   50.846575  \n",
       "7         -1.00    50.29081  "
      ],
      "text/html": [
       "<div>\n",
       "<style scoped>\n",
       "    .dataframe tbody tr th:only-of-type {\n",
       "        vertical-align: middle;\n",
       "    }\n",
       "\n",
       "    .dataframe tbody tr th {\n",
       "        vertical-align: top;\n",
       "    }\n",
       "\n",
       "    .dataframe thead th {\n",
       "        text-align: right;\n",
       "    }\n",
       "</style>\n",
       "<table border=\"1\" class=\"dataframe\">\n",
       "  <thead>\n",
       "    <tr style=\"text-align: right;\">\n",
       "      <th></th>\n",
       "      <th>Name</th>\n",
       "      <th>Part_Desc</th>\n",
       "      <th>TotalTests</th>\n",
       "      <th>FailedTests</th>\n",
       "      <th>HighestOutput</th>\n",
       "      <th>LowestOutput</th>\n",
       "      <th>FailureRate</th>\n",
       "    </tr>\n",
       "  </thead>\n",
       "  <tbody>\n",
       "    <tr>\n",
       "      <th>0</th>\n",
       "      <td>measure temperature</td>\n",
       "      <td>Gear_Box</td>\n",
       "      <td>7856</td>\n",
       "      <td>5939</td>\n",
       "      <td>45.00</td>\n",
       "      <td>25.00</td>\n",
       "      <td>75.598269</td>\n",
       "    </tr>\n",
       "    <tr>\n",
       "      <th>1</th>\n",
       "      <td>measure temperature</td>\n",
       "      <td>Hood_Cover</td>\n",
       "      <td>7752</td>\n",
       "      <td>5817</td>\n",
       "      <td>44.99</td>\n",
       "      <td>25.01</td>\n",
       "      <td>75.0387</td>\n",
       "    </tr>\n",
       "    <tr>\n",
       "      <th>2</th>\n",
       "      <td>measure temperature</td>\n",
       "      <td>Panel</td>\n",
       "      <td>7652</td>\n",
       "      <td>5812</td>\n",
       "      <td>45.00</td>\n",
       "      <td>25.00</td>\n",
       "      <td>75.953999</td>\n",
       "    </tr>\n",
       "    <tr>\n",
       "      <th>3</th>\n",
       "      <td>measure temperature</td>\n",
       "      <td>V8_Motor</td>\n",
       "      <td>7828</td>\n",
       "      <td>5822</td>\n",
       "      <td>45.00</td>\n",
       "      <td>25.00</td>\n",
       "      <td>74.374042</td>\n",
       "    </tr>\n",
       "    <tr>\n",
       "      <th>4</th>\n",
       "      <td>measure voltage</td>\n",
       "      <td>Gear_Box</td>\n",
       "      <td>7819</td>\n",
       "      <td>3911</td>\n",
       "      <td>1.00</td>\n",
       "      <td>-1.00</td>\n",
       "      <td>50.019184</td>\n",
       "    </tr>\n",
       "    <tr>\n",
       "      <th>5</th>\n",
       "      <td>measure voltage</td>\n",
       "      <td>Hood_Cover</td>\n",
       "      <td>7678</td>\n",
       "      <td>3949</td>\n",
       "      <td>1.00</td>\n",
       "      <td>-1.00</td>\n",
       "      <td>51.432665</td>\n",
       "    </tr>\n",
       "    <tr>\n",
       "      <th>6</th>\n",
       "      <td>measure voltage</td>\n",
       "      <td>Panel</td>\n",
       "      <td>7678</td>\n",
       "      <td>3904</td>\n",
       "      <td>1.00</td>\n",
       "      <td>-1.00</td>\n",
       "      <td>50.846575</td>\n",
       "    </tr>\n",
       "    <tr>\n",
       "      <th>7</th>\n",
       "      <td>measure voltage</td>\n",
       "      <td>V8_Motor</td>\n",
       "      <td>7737</td>\n",
       "      <td>3891</td>\n",
       "      <td>1.00</td>\n",
       "      <td>-1.00</td>\n",
       "      <td>50.29081</td>\n",
       "    </tr>\n",
       "  </tbody>\n",
       "</table>\n",
       "</div>"
      ]
     },
     "execution_count": 6,
     "metadata": {},
     "output_type": "execute_result"
    },
    {
     "data": {
      "text/plain": [
       "<Figure size 640x480 with 1 Axes>"
      ],
      "image/png": "[encoded data removed]"
     },
     "metadata": {},
     "output_type": "display_data"
    }
   ],
   "execution_count": 6
  },
  {
   "metadata": {},
   "cell_type": "markdown",
   "source": "# Overall parts usage statistics for the current report",
   "id": "51897942a858f843"
  },
  {
   "metadata": {
    "ExecuteTime": {
     "end_time": "2025-04-16T12:47:53.701310Z",
     "start_time": "2025-04-16T12:47:53.577672Z"
    }
   },
   "cell_type": "code",
   "source": [
    "global_parts_df_fig, global_parts_df_ax = plt.subplots()\n",
    "\n",
    "global_parts_df.set_index(['Part_Desc'])[['parts_used']].plot(kind='bar', ax=global_parts_df_ax)\n",
    "global_parts_df"
   ],
   "id": "bd0fcb34a8d54abe",
   "outputs": [
    {
     "data": {
      "text/plain": [
       "    Part_Desc  parts_used\n",
       "0    Gear_Box        3135\n",
       "1  Hood_Cover        3086\n",
       "2       Panel        3066\n",
       "3    V8_Motor        3113"
      ],
      "text/html": [
       "<div>\n",
       "<style scoped>\n",
       "    .dataframe tbody tr th:only-of-type {\n",
       "        vertical-align: middle;\n",
       "    }\n",
       "\n",
       "    .dataframe tbody tr th {\n",
       "        vertical-align: top;\n",
       "    }\n",
       "\n",
       "    .dataframe thead th {\n",
       "        text-align: right;\n",
       "    }\n",
       "</style>\n",
       "<table border=\"1\" class=\"dataframe\">\n",
       "  <thead>\n",
       "    <tr style=\"text-align: right;\">\n",
       "      <th></th>\n",
       "      <th>Part_Desc</th>\n",
       "      <th>parts_used</th>\n",
       "    </tr>\n",
       "  </thead>\n",
       "  <tbody>\n",
       "    <tr>\n",
       "      <th>0</th>\n",
       "      <td>Gear_Box</td>\n",
       "      <td>3135</td>\n",
       "    </tr>\n",
       "    <tr>\n",
       "      <th>1</th>\n",
       "      <td>Hood_Cover</td>\n",
       "      <td>3086</td>\n",
       "    </tr>\n",
       "    <tr>\n",
       "      <th>2</th>\n",
       "      <td>Panel</td>\n",
       "      <td>3066</td>\n",
       "    </tr>\n",
       "    <tr>\n",
       "      <th>3</th>\n",
       "      <td>V8_Motor</td>\n",
       "      <td>3113</td>\n",
       "    </tr>\n",
       "  </tbody>\n",
       "</table>\n",
       "</div>"
      ]
     },
     "execution_count": 7,
     "metadata": {},
     "output_type": "execute_result"
    },
    {
     "data": {
      "text/plain": [
       "<Figure size 640x480 with 1 Axes>"
      ],
      "image/png": "[encoded data removed]"
     },
     "metadata": {},
     "output_type": "display_data"
    }
   ],
   "execution_count": 7
  },
  {
   "metadata": {},
   "cell_type": "markdown",
   "source": "# How many parts have succeeded all the tests",
   "id": "e4ccabe0b5635550"
  },
  {
   "metadata": {
    "ExecuteTime": {
     "end_time": "2025-04-16T12:47:53.871625Z",
     "start_time": "2025-04-16T12:47:53.750181Z"
    }
   },
   "cell_type": "code",
   "source": [
    "global_successful_sn_df_stats_fig, global_successful_sn_df_stats_ax = plt.subplots()\n",
    "global_successful_sn_df_stats.set_index(['Part_Desc'])[['parts_succeed']].plot(kind='bar', ax=global_successful_sn_df_stats_ax)\n",
    "global_successful_sn_df_stats"
   ],
   "id": "66c734f5c68c5d1f",
   "outputs": [
    {
     "data": {
      "text/plain": [
       "    Part_Desc  parts_succeed\n",
       "0    Gear_Box             23\n",
       "1  Hood_Cover             23\n",
       "2       Panel             26\n",
       "3    V8_Motor             24"
      ],
      "text/html": [
       "<div>\n",
       "<style scoped>\n",
       "    .dataframe tbody tr th:only-of-type {\n",
       "        vertical-align: middle;\n",
       "    }\n",
       "\n",
       "    .dataframe tbody tr th {\n",
       "        vertical-align: top;\n",
       "    }\n",
       "\n",
       "    .dataframe thead th {\n",
       "        text-align: right;\n",
       "    }\n",
       "</style>\n",
       "<table border=\"1\" class=\"dataframe\">\n",
       "  <thead>\n",
       "    <tr style=\"text-align: right;\">\n",
       "      <th></th>\n",
       "      <th>Part_Desc</th>\n",
       "      <th>parts_succeed</th>\n",
       "    </tr>\n",
       "  </thead>\n",
       "  <tbody>\n",
       "    <tr>\n",
       "      <th>0</th>\n",
       "      <td>Gear_Box</td>\n",
       "      <td>23</td>\n",
       "    </tr>\n",
       "    <tr>\n",
       "      <th>1</th>\n",
       "      <td>Hood_Cover</td>\n",
       "      <td>23</td>\n",
       "    </tr>\n",
       "    <tr>\n",
       "      <th>2</th>\n",
       "      <td>Panel</td>\n",
       "      <td>26</td>\n",
       "    </tr>\n",
       "    <tr>\n",
       "      <th>3</th>\n",
       "      <td>V8_Motor</td>\n",
       "      <td>24</td>\n",
       "    </tr>\n",
       "  </tbody>\n",
       "</table>\n",
       "</div>"
      ]
     },
     "execution_count": 8,
     "metadata": {},
     "output_type": "execute_result"
    },
    {
     "data": {
      "text/plain": [
       "<Figure size 640x480 with 1 Axes>"
      ],
      "image/png": "[encoded data removed]"
     },
     "metadata": {},
     "output_type": "display_data"
    }
   ],
   "execution_count": 8
  },
  {
   "metadata": {},
   "cell_type": "markdown",
   "source": "# List of parts with serial numbers succeeded the tests",
   "id": "b5fa6e95e06ab5c1"
  },
  {
   "metadata": {
    "ExecuteTime": {
     "end_time": "2025-04-16T12:47:53.936231Z",
     "start_time": "2025-04-16T12:47:53.929575Z"
    }
   },
   "cell_type": "code",
   "source": "global_successful_sn_df",
   "id": "7a74106e2d491207",
   "outputs": [
    {
     "data": {
      "text/plain": [
       "           SN   Part_Desc\n",
       "0   4044xf003  Hood_Cover\n",
       "1   2034ma014    Gear_Box\n",
       "2   1056yu040    V8_Motor\n",
       "3   4040yj008  Hood_Cover\n",
       "4   3059tq084       Panel\n",
       "..        ...         ...\n",
       "91  1073uc085    V8_Motor\n",
       "92  4001uj070  Hood_Cover\n",
       "93  4084za045  Hood_Cover\n",
       "94  3037un086       Panel\n",
       "95  4035do098  Hood_Cover\n",
       "\n",
       "[96 rows x 2 columns]"
      ],
      "text/html": [
       "<div>\n",
       "<style scoped>\n",
       "    .dataframe tbody tr th:only-of-type {\n",
       "        vertical-align: middle;\n",
       "    }\n",
       "\n",
       "    .dataframe tbody tr th {\n",
       "        vertical-align: top;\n",
       "    }\n",
       "\n",
       "    .dataframe thead th {\n",
       "        text-align: right;\n",
       "    }\n",
       "</style>\n",
       "<table border=\"1\" class=\"dataframe\">\n",
       "  <thead>\n",
       "    <tr style=\"text-align: right;\">\n",
       "      <th></th>\n",
       "      <th>SN</th>\n",
       "      <th>Part_Desc</th>\n",
       "    </tr>\n",
       "  </thead>\n",
       "  <tbody>\n",
       "    <tr>\n",
       "      <th>0</th>\n",
       "      <td>4044xf003</td>\n",
       "      <td>Hood_Cover</td>\n",
       "    </tr>\n",
       "    <tr>\n",
       "      <th>1</th>\n",
       "      <td>2034ma014</td>\n",
       "      <td>Gear_Box</td>\n",
       "    </tr>\n",
       "    <tr>\n",
       "      <th>2</th>\n",
       "      <td>1056yu040</td>\n",
       "      <td>V8_Motor</td>\n",
       "    </tr>\n",
       "    <tr>\n",
       "      <th>3</th>\n",
       "      <td>4040yj008</td>\n",
       "      <td>Hood_Cover</td>\n",
       "    </tr>\n",
       "    <tr>\n",
       "      <th>4</th>\n",
       "      <td>3059tq084</td>\n",
       "      <td>Panel</td>\n",
       "    </tr>\n",
       "    <tr>\n",
       "      <th>...</th>\n",
       "      <td>...</td>\n",
       "      <td>...</td>\n",
       "    </tr>\n",
       "    <tr>\n",
       "      <th>91</th>\n",
       "      <td>1073uc085</td>\n",
       "      <td>V8_Motor</td>\n",
       "    </tr>\n",
       "    <tr>\n",
       "      <th>92</th>\n",
       "      <td>4001uj070</td>\n",
       "      <td>Hood_Cover</td>\n",
       "    </tr>\n",
       "    <tr>\n",
       "      <th>93</th>\n",
       "      <td>4084za045</td>\n",
       "      <td>Hood_Cover</td>\n",
       "    </tr>\n",
       "    <tr>\n",
       "      <th>94</th>\n",
       "      <td>3037un086</td>\n",
       "      <td>Panel</td>\n",
       "    </tr>\n",
       "    <tr>\n",
       "      <th>95</th>\n",
       "      <td>4035do098</td>\n",
       "      <td>Hood_Cover</td>\n",
       "    </tr>\n",
       "  </tbody>\n",
       "</table>\n",
       "<p>96 rows × 2 columns</p>\n",
       "</div>"
      ]
     },
     "execution_count": 9,
     "metadata": {},
     "output_type": "execute_result"
    }
   ],
   "execution_count": 9
  },
  {
   "metadata": {
    "ExecuteTime": {
     "end_time": "2025-04-16T12:47:54.019328Z",
     "start_time": "2025-04-16T12:47:54.014237Z"
    }
   },
   "cell_type": "code",
   "source": [
    "def send_report(to: List[str], dataframes_with_plots: List[Tuple[str, pd.DataFrame, plt.Figure, plt.Axes]]) -> None:\n",
    "    buffers = {}\n",
    "    for name, df, fig, ax in dataframes_with_plots:\n",
    "        buf = BytesIO()\n",
    "        fig.savefig(buf, format='png', bbox_inches='tight')\n",
    "        plt.close(fig)  # VERY IMPORTANT to avoid memory leak / global overlap\n",
    "\n",
    "        buf.seek(0)\n",
    "        buffers[f'{name}.png'] = buf\n",
    "\n",
    "        # Create a BytesIO buffer\n",
    "        csv_buffer = BytesIO()\n",
    "\n",
    "        # Save to buffer as CSV (use .encode for bytes)\n",
    "        csv_buffer.write(df.to_csv(index=False).encode('utf-8'))\n",
    "\n",
    "        # Reset pointer to beginning of buffer\n",
    "        csv_buffer.seek(0)\n",
    "        buffers[f'{name}.csv'] = csv_buffer\n",
    "\n",
    "\n",
    "    email_utils.send_email(to, f'Parts tests report - {datetime.now().strftime(\"%m/%d/%Y %I:%M:%S %p\")}', 'In this email we include the testing results for product parts. See the attachments for details.', attachments=list(buffers.items()))\n"
   ],
   "id": "1bf3fc079577f74b",
   "outputs": [],
   "execution_count": 10
  },
  {
   "metadata": {
    "ExecuteTime": {
     "end_time": "2025-04-16T12:47:54.119632Z",
     "start_time": "2025-04-16T12:47:54.115720Z"
    }
   },
   "cell_type": "code",
   "source": [
    "\n",
    "False and send_report(to=report_to_email_addresses, dataframes_with_plots=[\n",
    "        ('FailureRates', global_metrics, global_metrics_fig, global_metrics_ax),\n",
    "        ('PartItemsUsed', global_parts_df, global_parts_df_fig, global_parts_df_ax),\n",
    "        ('PartsSuccessfulStats', global_successful_sn_df_stats, global_successful_sn_df_stats_fig, global_successful_sn_df_stats_ax),\n",
    "    ])"
   ],
   "id": "3dd240042b497f8b",
   "outputs": [
    {
     "data": {
      "text/plain": [
       "False"
      ]
     },
     "execution_count": 11,
     "metadata": {},
     "output_type": "execute_result"
    }
   ],
   "execution_count": 11
  },
  {
   "metadata": {
    "ExecuteTime": {
     "end_time": "2025-04-16T12:47:54.171917Z",
     "start_time": "2025-04-16T12:47:54.169873Z"
    }
   },
   "cell_type": "code",
   "source": "",
   "id": "acb74e4f9728d180",
   "outputs": [],
   "execution_count": null
  }
 ],
 "metadata": {
  "kernelspec": {
   "display_name": "Python 3",
   "language": "python",
   "name": "python3"
  },
  "language_info": {
   "codemirror_mode": {
    "name": "ipython",
    "version": 2
   },
   "file_extension": ".py",
   "mimetype": "text/x-python",
   "name": "python",
   "nbconvert_exporter": "python",
   "pygments_lexer": "ipython2",
   "version": "2.7.6"
  }
 },
 "nbformat": 4,
 "nbformat_minor": 5
}
